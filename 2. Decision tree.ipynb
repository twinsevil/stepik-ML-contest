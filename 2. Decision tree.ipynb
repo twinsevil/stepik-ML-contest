{
 "cells": [
  {
   "cell_type": "markdown",
   "metadata": {},
   "source": [
    "# 2.1 Решающие деревья"
   ]
  },
  {
   "cell_type": "code",
   "execution_count": 125,
   "metadata": {},
   "outputs": [],
   "source": [
    "from sklearn import tree\n",
    "import pandas as pd\n",
    "import matplotlib.pyplot as plt\n",
    "import seaborn as sns\n",
    "% matplotlib inline"
   ]
  },
  {
   "cell_type": "markdown",
   "metadata": {},
   "source": [
    "Научимся с помощью дерева решений предсказывать переменную $Y$, основываясь на переменных $X_1$ и $X_2$.\n",
    "\n",
    "Для обучения решающих деревьев нам понадоибтся новый модуль:\n",
    "```python\n",
    "from sklearn import tree\n",
    "```\n",
    "\n",
    "Подготовим данные для простейшего примера."
   ]
  },
  {
   "cell_type": "code",
   "execution_count": 126,
   "metadata": {},
   "outputs": [
    {
     "data": {
      "text/html": [
       "<div>\n",
       "<style scoped>\n",
       "    .dataframe tbody tr th:only-of-type {\n",
       "        vertical-align: middle;\n",
       "    }\n",
       "\n",
       "    .dataframe tbody tr th {\n",
       "        vertical-align: top;\n",
       "    }\n",
       "\n",
       "    .dataframe thead th {\n",
       "        text-align: right;\n",
       "    }\n",
       "</style>\n",
       "<table border=\"1\" class=\"dataframe\">\n",
       "  <thead>\n",
       "    <tr style=\"text-align: right;\">\n",
       "      <th></th>\n",
       "      <th>X_1</th>\n",
       "      <th>X_2</th>\n",
       "      <th>Y</th>\n",
       "    </tr>\n",
       "  </thead>\n",
       "  <tbody>\n",
       "    <tr>\n",
       "      <th>0</th>\n",
       "      <td>1</td>\n",
       "      <td>0</td>\n",
       "      <td>1</td>\n",
       "    </tr>\n",
       "    <tr>\n",
       "      <th>1</th>\n",
       "      <td>1</td>\n",
       "      <td>0</td>\n",
       "      <td>1</td>\n",
       "    </tr>\n",
       "    <tr>\n",
       "      <th>2</th>\n",
       "      <td>1</td>\n",
       "      <td>0</td>\n",
       "      <td>1</td>\n",
       "    </tr>\n",
       "    <tr>\n",
       "      <th>3</th>\n",
       "      <td>0</td>\n",
       "      <td>1</td>\n",
       "      <td>1</td>\n",
       "    </tr>\n",
       "    <tr>\n",
       "      <th>4</th>\n",
       "      <td>0</td>\n",
       "      <td>0</td>\n",
       "      <td>0</td>\n",
       "    </tr>\n",
       "    <tr>\n",
       "      <th>5</th>\n",
       "      <td>0</td>\n",
       "      <td>0</td>\n",
       "      <td>0</td>\n",
       "    </tr>\n",
       "    <tr>\n",
       "      <th>6</th>\n",
       "      <td>0</td>\n",
       "      <td>0</td>\n",
       "      <td>0</td>\n",
       "    </tr>\n",
       "    <tr>\n",
       "      <th>7</th>\n",
       "      <td>1</td>\n",
       "      <td>1</td>\n",
       "      <td>0</td>\n",
       "    </tr>\n",
       "  </tbody>\n",
       "</table>\n",
       "</div>"
      ],
      "text/plain": [
       "   X_1  X_2  Y\n",
       "0    1    0  1\n",
       "1    1    0  1\n",
       "2    1    0  1\n",
       "3    0    1  1\n",
       "4    0    0  0\n",
       "5    0    0  0\n",
       "6    0    0  0\n",
       "7    1    1  0"
      ]
     },
     "execution_count": 126,
     "metadata": {},
     "output_type": "execute_result"
    }
   ],
   "source": [
    "data = pd.DataFrame({'X_1': [1, 1, 1, 0, 0, 0, 0, 1],\n",
    "                     'X_2': [0, 0, 0, 1, 0, 0, 0, 1], \n",
    "                     'Y': [1, 1, 1, 1, 0, 0, 0, 0]})\n",
    "data"
   ]
  },
  {
   "cell_type": "markdown",
   "metadata": {},
   "source": [
    "У нас есть две переменные $X_1$, $X_2$ и $Y$, принимающие значения $0$ или $1$. То есть их можно воспринимать как некие бинарные номинативные переменные.\n",
    "\n",
    "Наша с вами задача: научиться при помощи дерева решений предсказывать значения переменной $Y$, основываясь на значениях переменной $X_1$ и $X_2$.\n",
    "\n",
    "Дерево решений часто сравнивают с тем, как мыслит человек, точнее способ как дерево решений предоставляет некоторые результаты обученной модели. Поэтому давайте сейчас обучим дерево решений в нашей голове.\n",
    "\n",
    "Посмотрим наши данные.\n",
    "\n",
    "Если $X_1 = 1$, то $Y$ чаще всего тоже равно $1$. В обратном случае если $X_1 = 0$, то $Y$ чаще всего тоже равно $0$.\n",
    "\n",
    "Давайте посмотрим как дерево решений справится с этой задачей."
   ]
  },
  {
   "cell_type": "code",
   "execution_count": 127,
   "metadata": {},
   "outputs": [
    {
     "data": {
      "text/plain": [
       "DecisionTreeClassifier(class_weight=None, criterion='entropy', max_depth=None,\n",
       "            max_features=None, max_leaf_nodes=None,\n",
       "            min_impurity_decrease=0.0, min_impurity_split=None,\n",
       "            min_samples_leaf=1, min_samples_split=2,\n",
       "            min_weight_fraction_leaf=0.0, presort=False, random_state=None,\n",
       "            splitter='best')"
      ]
     },
     "execution_count": 127,
     "metadata": {},
     "output_type": "execute_result"
    }
   ],
   "source": [
    "clf = tree.DecisionTreeClassifier(criterion='entropy')\n",
    "clf"
   ]
  },
  {
   "cell_type": "code",
   "execution_count": 128,
   "metadata": {},
   "outputs": [],
   "source": [
    "X = data[['X_1', 'X_2']]\n",
    "y = data.Y"
   ]
  },
  {
   "cell_type": "code",
   "execution_count": 129,
   "metadata": {
    "scrolled": true
   },
   "outputs": [
    {
     "data": {
      "text/plain": [
       "DecisionTreeClassifier(class_weight=None, criterion='entropy', max_depth=None,\n",
       "            max_features=None, max_leaf_nodes=None,\n",
       "            min_impurity_decrease=0.0, min_impurity_split=None,\n",
       "            min_samples_leaf=1, min_samples_split=2,\n",
       "            min_weight_fraction_leaf=0.0, presort=False, random_state=None,\n",
       "            splitter='best')"
      ]
     },
     "execution_count": 129,
     "metadata": {},
     "output_type": "execute_result"
    }
   ],
   "source": [
    "clf.fit(X, y)"
   ]
  },
  {
   "cell_type": "markdown",
   "metadata": {},
   "source": [
    "Внешне ничего не поменялось. Но если у нас раньше было пустое, ничего не знающее, одинокое дерево решений, которое только знало как можно чему-то обучаться, но не знало ничего ни про наши $X$ и $Y$, ни про наши данные. То теперь мы дали ему переменные, в которых есть какая-то хитрая взаимосвязь, позволяющая предсказать $y$.\n",
    "\n",
    "И вот дерево решений довольно быстро обучилось. Внешне это не очень заметно, но давайте теперь попробуем вытащить те знания, которые дерево решений сформировало по нашим данным.\n",
    "\n",
    "Самый простой способ понять чему научилось дерево решений - визуализировать это дерево."
   ]
  },
  {
   "cell_type": "markdown",
   "metadata": {},
   "source": [
    "## Визуализируем наше дерево\n",
    "\n",
    "Я сейчас не хочу отдельно подробно останавливаться на том коде, который был использован для визуализации. Как нарисовать дерево можно посмотреть [здесь](https://medium.com/@rnbrown/creating-and-visualizing-decision-trees-with-python-f8e8fa394176)"
   ]
  },
  {
   "cell_type": "code",
   "execution_count": 130,
   "metadata": {},
   "outputs": [],
   "source": [
    "from IPython.display import SVG\n",
    "from graphviz import Source\n",
    "from IPython.display import display"
   ]
  },
  {
   "cell_type": "markdown",
   "metadata": {},
   "source": [
    "Были проблемы с установкой пакета `graphviz`. Не получалось установить пакет ни с помощью Anaconda Navigator, ни с помощью `conda` в командной строке, ни с помощью `pip3`. Появлялась ошибка:\n",
    "\n",
    "```\n",
    "Collecting package metadata: failed\n",
    "\n",
    "CondaHTTPError: HTTP 000 CONNECTION FAILED for url <https://repo.anaconda.com/pkgs/msys2/win-64/repodata.json.bz2>\n",
    "Elapsed: -\n",
    "\n",
    "An HTTP error occurred when trying to retrieve this URL.\n",
    "HTTP errors are often intermittent, and a simple retry will get you on your way.\n",
    "\n",
    "If your current network has https://www.anaconda.com blocked, please file\n",
    "a support request with your network engineering team.\n",
    "\n",
    "SSLError(MaxRetryError('HTTPSConnectionPool(host=\\'repo.anaconda.com\\', port=443): Max retries exceeded with url: /pkgs/msys2/win-64/repodata.json.bz2 (Caused by SSLError(\"Can\\'t connect to HTTPS URL because the SSL module is not available.\"))'))\n",
    "```\n",
    "\n",
    "Нашел решение [здесь](https://github.com/conda/conda/issues/6007). Нужно было всего лишь использовать **Anaconda Prompt** для установки пакетов, а не командную строку Windows. \n",
    "\n",
    "Так же для того, чтобы не нужно было каждый раз прописывать путь к исполняемому файлу в переменных ОС (Path), можно использовать команду Python:\n",
    "\n",
    "```Python\n",
    "import os\n",
    "os.environ[\"PATH\"] += os.pathsep + 'C:/Users/kes/Anaconda3/Library/bin/graphviz'# (укажите свой путь до bin для graphviz)\n",
    "```\n",
    "\n"
   ]
  },
  {
   "cell_type": "code",
   "execution_count": 131,
   "metadata": {},
   "outputs": [
    {
     "data": {
      "text/html": [
       "<style>svg{width:70% !important;height:70% !important;}</style>"
      ],
      "text/plain": [
       "<IPython.core.display.HTML object>"
      ]
     },
     "execution_count": 131,
     "metadata": {},
     "output_type": "execute_result"
    }
   ],
   "source": [
    "from IPython.display import HTML\n",
    "style = \"<style>svg{width:70% !important;height:70% !important;}</style>\"\n",
    "HTML(style)"
   ]
  },
  {
   "cell_type": "code",
   "execution_count": 132,
   "metadata": {},
   "outputs": [
    {
     "data": {
      "image/svg+xml": [
       "<svg height=\"314pt\" viewBox=\"0.00 0.00 487.00 314.00\" width=\"487pt\" xmlns=\"http://www.w3.org/2000/svg\" xmlns:xlink=\"http://www.w3.org/1999/xlink\">\n",
       "<g class=\"graph\" id=\"graph0\" transform=\"scale(1 1) rotate(0) translate(4 310)\">\n",
       "<title>Tree</title>\n",
       "<polygon fill=\"white\" points=\"-4,4 -4,-310 483,-310 483,4 -4,4\" stroke=\"none\"/>\n",
       "<!-- 0 -->\n",
       "<g class=\"node\" id=\"node1\"><title>0</title>\n",
       "<polygon fill=\"none\" points=\"293,-306 185,-306 185,-223 293,-223 293,-306\" stroke=\"black\"/>\n",
       "<text font-family=\"Times New Roman,serif\" font-size=\"14.00\" text-anchor=\"middle\" x=\"239\" y=\"-290.8\">X_1 &lt;= 0.5</text>\n",
       "<text font-family=\"Times New Roman,serif\" font-size=\"14.00\" text-anchor=\"middle\" x=\"239\" y=\"-275.8\">entropy = 1.0</text>\n",
       "<text font-family=\"Times New Roman,serif\" font-size=\"14.00\" text-anchor=\"middle\" x=\"239\" y=\"-260.8\">samples = 8</text>\n",
       "<text font-family=\"Times New Roman,serif\" font-size=\"14.00\" text-anchor=\"middle\" x=\"239\" y=\"-245.8\">value = [4, 4]</text>\n",
       "<text font-family=\"Times New Roman,serif\" font-size=\"14.00\" text-anchor=\"middle\" x=\"239\" y=\"-230.8\">class = Negative</text>\n",
       "</g>\n",
       "<!-- 1 -->\n",
       "<g class=\"node\" id=\"node2\"><title>1</title>\n",
       "<polygon fill=\"#e58139\" fill-opacity=\"0.666667\" points=\"231,-187 123,-187 123,-104 231,-104 231,-187\" stroke=\"black\"/>\n",
       "<text font-family=\"Times New Roman,serif\" font-size=\"14.00\" text-anchor=\"middle\" x=\"177\" y=\"-171.8\">X_2 &lt;= 0.5</text>\n",
       "<text font-family=\"Times New Roman,serif\" font-size=\"14.00\" text-anchor=\"middle\" x=\"177\" y=\"-156.8\">entropy = 0.811</text>\n",
       "<text font-family=\"Times New Roman,serif\" font-size=\"14.00\" text-anchor=\"middle\" x=\"177\" y=\"-141.8\">samples = 4</text>\n",
       "<text font-family=\"Times New Roman,serif\" font-size=\"14.00\" text-anchor=\"middle\" x=\"177\" y=\"-126.8\">value = [3, 1]</text>\n",
       "<text font-family=\"Times New Roman,serif\" font-size=\"14.00\" text-anchor=\"middle\" x=\"177\" y=\"-111.8\">class = Negative</text>\n",
       "</g>\n",
       "<!-- 0&#45;&gt;1 -->\n",
       "<g class=\"edge\" id=\"edge1\"><title>0-&gt;1</title>\n",
       "<path d=\"M217.489,-222.907C212.873,-214.195 207.945,-204.897 203.174,-195.893\" fill=\"none\" stroke=\"black\"/>\n",
       "<polygon fill=\"black\" points=\"206.248,-194.218 198.473,-187.021 200.062,-197.496 206.248,-194.218\" stroke=\"black\"/>\n",
       "<text font-family=\"Times New Roman,serif\" font-size=\"14.00\" text-anchor=\"middle\" x=\"191.13\" y=\"-207.218\">True</text>\n",
       "</g>\n",
       "<!-- 4 -->\n",
       "<g class=\"node\" id=\"node5\"><title>4</title>\n",
       "<polygon fill=\"#399de5\" fill-opacity=\"0.666667\" points=\"355,-187 249,-187 249,-104 355,-104 355,-187\" stroke=\"black\"/>\n",
       "<text font-family=\"Times New Roman,serif\" font-size=\"14.00\" text-anchor=\"middle\" x=\"302\" y=\"-171.8\">X_2 &lt;= 0.5</text>\n",
       "<text font-family=\"Times New Roman,serif\" font-size=\"14.00\" text-anchor=\"middle\" x=\"302\" y=\"-156.8\">entropy = 0.811</text>\n",
       "<text font-family=\"Times New Roman,serif\" font-size=\"14.00\" text-anchor=\"middle\" x=\"302\" y=\"-141.8\">samples = 4</text>\n",
       "<text font-family=\"Times New Roman,serif\" font-size=\"14.00\" text-anchor=\"middle\" x=\"302\" y=\"-126.8\">value = [1, 3]</text>\n",
       "<text font-family=\"Times New Roman,serif\" font-size=\"14.00\" text-anchor=\"middle\" x=\"302\" y=\"-111.8\">class = Positive</text>\n",
       "</g>\n",
       "<!-- 0&#45;&gt;4 -->\n",
       "<g class=\"edge\" id=\"edge4\"><title>0-&gt;4</title>\n",
       "<path d=\"M260.858,-222.907C265.549,-214.195 270.556,-204.897 275.404,-195.893\" fill=\"none\" stroke=\"black\"/>\n",
       "<polygon fill=\"black\" points=\"278.522,-197.485 280.181,-187.021 272.358,-194.166 278.522,-197.485\" stroke=\"black\"/>\n",
       "<text font-family=\"Times New Roman,serif\" font-size=\"14.00\" text-anchor=\"middle\" x=\"287.365\" y=\"-207.266\">False</text>\n",
       "</g>\n",
       "<!-- 2 -->\n",
       "<g class=\"node\" id=\"node3\"><title>2</title>\n",
       "<polygon fill=\"#e58139\" points=\"108,-68 0,-68 0,-0 108,-0 108,-68\" stroke=\"black\"/>\n",
       "<text font-family=\"Times New Roman,serif\" font-size=\"14.00\" text-anchor=\"middle\" x=\"54\" y=\"-52.8\">entropy = 0.0</text>\n",
       "<text font-family=\"Times New Roman,serif\" font-size=\"14.00\" text-anchor=\"middle\" x=\"54\" y=\"-37.8\">samples = 3</text>\n",
       "<text font-family=\"Times New Roman,serif\" font-size=\"14.00\" text-anchor=\"middle\" x=\"54\" y=\"-22.8\">value = [3, 0]</text>\n",
       "<text font-family=\"Times New Roman,serif\" font-size=\"14.00\" text-anchor=\"middle\" x=\"54\" y=\"-7.8\">class = Negative</text>\n",
       "</g>\n",
       "<!-- 1&#45;&gt;2 -->\n",
       "<g class=\"edge\" id=\"edge2\"><title>1-&gt;2</title>\n",
       "<path d=\"M131.199,-103.726C120.647,-94.3318 109.433,-84.349 98.9184,-74.9883\" fill=\"none\" stroke=\"black\"/>\n",
       "<polygon fill=\"black\" points=\"101.201,-72.3347 91.405,-68.2996 96.5469,-77.5631 101.201,-72.3347\" stroke=\"black\"/>\n",
       "</g>\n",
       "<!-- 3 -->\n",
       "<g class=\"node\" id=\"node4\"><title>3</title>\n",
       "<polygon fill=\"#399de5\" points=\"230,-68 126,-68 126,-0 230,-0 230,-68\" stroke=\"black\"/>\n",
       "<text font-family=\"Times New Roman,serif\" font-size=\"14.00\" text-anchor=\"middle\" x=\"178\" y=\"-52.8\">entropy = 0.0</text>\n",
       "<text font-family=\"Times New Roman,serif\" font-size=\"14.00\" text-anchor=\"middle\" x=\"178\" y=\"-37.8\">samples = 1</text>\n",
       "<text font-family=\"Times New Roman,serif\" font-size=\"14.00\" text-anchor=\"middle\" x=\"178\" y=\"-22.8\">value = [0, 1]</text>\n",
       "<text font-family=\"Times New Roman,serif\" font-size=\"14.00\" text-anchor=\"middle\" x=\"178\" y=\"-7.8\">class = Positive</text>\n",
       "</g>\n",
       "<!-- 1&#45;&gt;3 -->\n",
       "<g class=\"edge\" id=\"edge3\"><title>1-&gt;3</title>\n",
       "<path d=\"M177.372,-103.726C177.447,-95.5175 177.526,-86.8595 177.602,-78.56\" fill=\"none\" stroke=\"black\"/>\n",
       "<polygon fill=\"black\" points=\"181.104,-78.3312 177.696,-68.2996 174.105,-78.2672 181.104,-78.3312\" stroke=\"black\"/>\n",
       "</g>\n",
       "<!-- 5 -->\n",
       "<g class=\"node\" id=\"node6\"><title>5</title>\n",
       "<polygon fill=\"#399de5\" points=\"353,-68 249,-68 249,-0 353,-0 353,-68\" stroke=\"black\"/>\n",
       "<text font-family=\"Times New Roman,serif\" font-size=\"14.00\" text-anchor=\"middle\" x=\"301\" y=\"-52.8\">entropy = 0.0</text>\n",
       "<text font-family=\"Times New Roman,serif\" font-size=\"14.00\" text-anchor=\"middle\" x=\"301\" y=\"-37.8\">samples = 3</text>\n",
       "<text font-family=\"Times New Roman,serif\" font-size=\"14.00\" text-anchor=\"middle\" x=\"301\" y=\"-22.8\">value = [0, 3]</text>\n",
       "<text font-family=\"Times New Roman,serif\" font-size=\"14.00\" text-anchor=\"middle\" x=\"301\" y=\"-7.8\">class = Positive</text>\n",
       "</g>\n",
       "<!-- 4&#45;&gt;5 -->\n",
       "<g class=\"edge\" id=\"edge5\"><title>4-&gt;5</title>\n",
       "<path d=\"M301.628,-103.726C301.553,-95.5175 301.474,-86.8595 301.398,-78.56\" fill=\"none\" stroke=\"black\"/>\n",
       "<polygon fill=\"black\" points=\"304.895,-78.2672 301.304,-68.2996 297.896,-78.3312 304.895,-78.2672\" stroke=\"black\"/>\n",
       "</g>\n",
       "<!-- 6 -->\n",
       "<g class=\"node\" id=\"node7\"><title>6</title>\n",
       "<polygon fill=\"#e58139\" points=\"479,-68 371,-68 371,-0 479,-0 479,-68\" stroke=\"black\"/>\n",
       "<text font-family=\"Times New Roman,serif\" font-size=\"14.00\" text-anchor=\"middle\" x=\"425\" y=\"-52.8\">entropy = 0.0</text>\n",
       "<text font-family=\"Times New Roman,serif\" font-size=\"14.00\" text-anchor=\"middle\" x=\"425\" y=\"-37.8\">samples = 1</text>\n",
       "<text font-family=\"Times New Roman,serif\" font-size=\"14.00\" text-anchor=\"middle\" x=\"425\" y=\"-22.8\">value = [1, 0]</text>\n",
       "<text font-family=\"Times New Roman,serif\" font-size=\"14.00\" text-anchor=\"middle\" x=\"425\" y=\"-7.8\">class = Negative</text>\n",
       "</g>\n",
       "<!-- 4&#45;&gt;6 -->\n",
       "<g class=\"edge\" id=\"edge6\"><title>4-&gt;6</title>\n",
       "<path d=\"M347.801,-103.726C358.353,-94.3318 369.567,-84.349 380.082,-74.9883\" fill=\"none\" stroke=\"black\"/>\n",
       "<polygon fill=\"black\" points=\"382.453,-77.5631 387.595,-68.2996 377.799,-72.3347 382.453,-77.5631\" stroke=\"black\"/>\n",
       "</g>\n",
       "</g>\n",
       "</svg>"
      ],
      "text/plain": [
       "<IPython.core.display.SVG object>"
      ]
     },
     "metadata": {},
     "output_type": "display_data"
    }
   ],
   "source": [
    "graph = Source(tree.export_graphviz(clf, out_file=None,\n",
    "                                   feature_names=list(X),\n",
    "                                   class_names=['Negative', \n",
    "                                               'Positive'],\n",
    "                                   filled=True))\n",
    "display(SVG(graph.pipe(format='svg')))"
   ]
  },
  {
   "cell_type": "markdown",
   "metadata": {},
   "source": [
    "Давайте посмотрим на то, что у нас получилось.\n",
    "\n",
    "Так выглядит обученное нами дерево решений. Из графика мы видим, как обученное нами дерево решений научилось разделять наблюдения на те, у которых $y = 0$ и те, у которых $y = 1$, используя данные про наши переменные $X_1$ и $X_2$.\n",
    "\n",
    "Давайте быстренько посмотрим какие тут у нас ключевые слова.\n",
    "\n",
    "Для удобства восприятия в код были добавлены лейблы `Positive` и `Negative` для удобства восприятия. $y = 1$ будет `Positive`, а $y = 0$ будет `Negative`.\n",
    "\n",
    "В самом начале у нас верхний белый квадрат - было 4 наблюдения с классом 0, 4 наблюдения с классом 1. Энтропия при этом у нас равна единице, а вопрос, который мы задаём на этом шаге - \"Правда ли что $X_1 \\leq 0.5$?\".\n",
    "\n",
    "И если это правда, т.е. когда $X_1 = 0$, то мы видим, что у нас преобладает класс `Negative`. Мы попадаем в левую ветку - 3 наблюдения будут 0 и одно наблюдение - 1.\n",
    "\n",
    "А вот в обратном случае, т.е. когда $X_1 = 1$ мы попадаем в правую ветку и у нас преобладает класс `Positive`. При этом 3 наблюдения будут 1 и одно - 0.\n",
    "\n",
    "Поскольку в квадратах на втором уровне присутствует по 4 значения, относящихся к двум различным группам - дереву решений нужно классифицировать эти оставшиеся значения.\n",
    "\n",
    "Следующий вопрос, который задаётся - \"Правда ли что $X_2 \\leq 0.5$\".\n",
    "\n",
    "В этом случае все значения, которые меньше 0.5 попадают в класс `Negative`, а значения больше 0.5 - в класс `Positive`.\n",
    "\n",
    "Это позволяет нам безошибочно разделить все наши точки на те, у которых $y=0$ или $y=1$.\n",
    "\n",
    "Осталось только понять как дерево решений это сделало, что за энтропия тут появляется. Она максимальна в самом начале работы алгоритма. И равна нулю когда мы однозначно классифицировали наши наблюдения\n",
    "\n",
    "Интересно как дерево определило в каком порядке нужно рассматривать фичи, ведь оно выбрало сначала наблюдения $X_1$ и только потом $X_2$. А что было бы, если бы фич было не две, а десять?\n",
    "\n",
    "По этой формуле можно посчитать энтропию:\n",
    "\n",
    "$$E(Y) = - \\sum_{i=1}^K p_i \\log_2 (i)$$\n",
    "\n",
    "А по этой информационный выигрыш (Information Gain):\n",
    "\n",
    "$$IG(Y, X) = E(Y) - E(Y|X)$$\n",
    "\n",
    "Итак, стратегия проста. Сначала, с помощью данных в столбце $Y$, мы находим энтропию. Как? Очень прсто. За $p_i$ берем долю элементов класса $i$ среди всех элементов, подставляем в формулу для $E(Y)$ и энтропия найдена. Затем мы начинаем последовательно перебирать все признаки, которые могут помочь нам уменьшить неопределенность. С помощью вопросов типа: \"Правда ли что $X_2 \\leq 0.5$\", мы разделяем наши данные на две группы, в которых снова считаем энтропию по тому же принципу: подсчитываем $p_i$ для элементов класса $i$, которые попали в левую ветку дерева и то же самое для правой ветки. Затем по формуле, находим Information Gain. Тот признак, у которого IG самый высокий, и станет первым, по котором будет произведено разделение наблюдений."
   ]
  }
 ],
 "metadata": {
  "kernelspec": {
   "display_name": "Python 3",
   "language": "python",
   "name": "python3"
  },
  "language_info": {
   "codemirror_mode": {
    "name": "ipython",
    "version": 3
   },
   "file_extension": ".py",
   "mimetype": "text/x-python",
   "name": "python",
   "nbconvert_exporter": "python",
   "pygments_lexer": "ipython3",
   "version": "3.7.2"
  }
 },
 "nbformat": 4,
 "nbformat_minor": 2
}
